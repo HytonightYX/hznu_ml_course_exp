{
 "cells": [
  {
   "cell_type": "markdown",
   "metadata": {},
   "source": [
    "## 使用KNN分类器(k-d树版本)判断乳腺肿瘤是否为良性"
   ]
  },
  {
   "cell_type": "code",
   "execution_count": 76,
   "metadata": {},
   "outputs": [],
   "source": [
    "import numpy as np"
   ]
  },
  {
   "cell_type": "markdown",
   "metadata": {},
   "source": [
    "### 准备数据"
   ]
  },
  {
   "cell_type": "code",
   "execution_count": 77,
   "metadata": {},
   "outputs": [
    {
     "output_type": "execute_result",
     "data": {
      "text/plain": "array([[1.799e+01, 1.038e+01, 1.228e+02, ..., 2.654e-01, 4.601e-01,\n        1.189e-01],\n       [2.057e+01, 1.777e+01, 1.329e+02, ..., 1.860e-01, 2.750e-01,\n        8.902e-02],\n       [1.969e+01, 2.125e+01, 1.300e+02, ..., 2.430e-01, 3.613e-01,\n        8.758e-02],\n       ...,\n       [1.660e+01, 2.808e+01, 1.083e+02, ..., 1.418e-01, 2.218e-01,\n        7.820e-02],\n       [2.060e+01, 2.933e+01, 1.401e+02, ..., 2.650e-01, 4.087e-01,\n        1.240e-01],\n       [7.760e+00, 2.454e+01, 4.792e+01, ..., 0.000e+00, 2.871e-01,\n        7.039e-02]])"
     },
     "metadata": {},
     "execution_count": 77
    }
   ],
   "source": [
    "# 加载数据集\n",
    "X = np.genfromtxt('wdbc.data', delimiter=',', usecols=range(2, 32))\n",
    "X"
   ]
  },
  {
   "cell_type": "code",
   "execution_count": 78,
   "metadata": {},
   "outputs": [
    {
     "output_type": "execute_result",
     "data": {
      "text/plain": "array(['M', 'M', 'M', 'M', 'M', 'M', 'M', 'M', 'M', 'M', 'M', 'M', 'M',\n       'M', 'M', 'M', 'M', 'M', 'M', 'B', 'B', 'B', 'M', 'M', 'M', 'M',\n       'M', 'M', 'M', 'M', 'M', 'M', 'M', 'M', 'M', 'M', 'M', 'B', 'M',\n       'M', 'M', 'M', 'M', 'M', 'M', 'M', 'B', 'M', 'B', 'B', 'B', 'B',\n       'B', 'M', 'M', 'B', 'M', 'M', 'B', 'B', 'B', 'B', 'M', 'B', 'M',\n       'M', 'B', 'B', 'B', 'B', 'M', 'B', 'M', 'M', 'B', 'M', 'B', 'M',\n       'M', 'B', 'B', 'B', 'M', 'M', 'B', 'M', 'M', 'M', 'B', 'B', 'B',\n       'M', 'B', 'B', 'M', 'M', 'B', 'B', 'B', 'M', 'M', 'B', 'B', 'B',\n       'B', 'M', 'B', 'B', 'M', 'B', 'B', 'B', 'B', 'B', 'B', 'B', 'B',\n       'M', 'M', 'M', 'B', 'M', 'M', 'B', 'B', 'B', 'M', 'M', 'B', 'M',\n       'B', 'M', 'M', 'B', 'M', 'M', 'B', 'B', 'M', 'B', 'B', 'M', 'B',\n       'B', 'B', 'B', 'M', 'B', 'B', 'B', 'B', 'B', 'B', 'B', 'B', 'B',\n       'M', 'B', 'B', 'B', 'B', 'M', 'M', 'B', 'M', 'B', 'B', 'M', 'M',\n       'B', 'B', 'M', 'M', 'B', 'B', 'B', 'B', 'M', 'B', 'B', 'M', 'M',\n       'M', 'B', 'M', 'B', 'M', 'B', 'B', 'B', 'M', 'B', 'B', 'M', 'M',\n       'B', 'M', 'M', 'M', 'M', 'B', 'M', 'M', 'M', 'B', 'M', 'B', 'M',\n       'B', 'B', 'M', 'B', 'M', 'M', 'M', 'M', 'B', 'B', 'M', 'M', 'B',\n       'B', 'B', 'M', 'B', 'B', 'B', 'B', 'B', 'M', 'M', 'B', 'B', 'M',\n       'B', 'B', 'M', 'M', 'B', 'M', 'B', 'B', 'B', 'B', 'M', 'B', 'B',\n       'B', 'B', 'B', 'M', 'B', 'M', 'M', 'M', 'M', 'M', 'M', 'M', 'M',\n       'M', 'M', 'M', 'M', 'M', 'M', 'B', 'B', 'B', 'B', 'B', 'B', 'M',\n       'B', 'M', 'B', 'B', 'M', 'B', 'B', 'M', 'B', 'M', 'M', 'B', 'B',\n       'B', 'B', 'B', 'B', 'B', 'B', 'B', 'B', 'B', 'B', 'B', 'M', 'B',\n       'B', 'M', 'B', 'M', 'B', 'B', 'B', 'B', 'B', 'B', 'B', 'B', 'B',\n       'B', 'B', 'B', 'B', 'B', 'M', 'B', 'B', 'B', 'M', 'B', 'M', 'B',\n       'B', 'B', 'B', 'M', 'M', 'M', 'B', 'B', 'B', 'B', 'M', 'B', 'M',\n       'B', 'M', 'B', 'B', 'B', 'M', 'B', 'B', 'B', 'B', 'B', 'B', 'B',\n       'M', 'M', 'M', 'B', 'B', 'B', 'B', 'B', 'B', 'B', 'B', 'B', 'B',\n       'B', 'M', 'M', 'B', 'M', 'M', 'M', 'B', 'M', 'M', 'B', 'B', 'B',\n       'B', 'B', 'M', 'B', 'B', 'B', 'B', 'B', 'M', 'B', 'B', 'B', 'M',\n       'B', 'B', 'M', 'M', 'B', 'B', 'B', 'B', 'B', 'B', 'M', 'B', 'B',\n       'B', 'B', 'B', 'B', 'B', 'M', 'B', 'B', 'B', 'B', 'B', 'M', 'B',\n       'B', 'M', 'B', 'B', 'B', 'B', 'B', 'B', 'B', 'B', 'B', 'B', 'B',\n       'B', 'M', 'B', 'M', 'M', 'B', 'M', 'B', 'B', 'B', 'B', 'B', 'M',\n       'B', 'B', 'M', 'B', 'M', 'B', 'B', 'M', 'B', 'M', 'B', 'B', 'B',\n       'B', 'B', 'B', 'B', 'B', 'M', 'M', 'B', 'B', 'B', 'B', 'B', 'B',\n       'M', 'B', 'B', 'B', 'B', 'B', 'B', 'B', 'B', 'B', 'B', 'M', 'B',\n       'B', 'B', 'B', 'B', 'B', 'B', 'M', 'B', 'M', 'B', 'B', 'M', 'B',\n       'B', 'B', 'B', 'B', 'M', 'M', 'B', 'M', 'B', 'M', 'B', 'B', 'B',\n       'B', 'B', 'M', 'B', 'B', 'M', 'B', 'M', 'B', 'M', 'M', 'B', 'B',\n       'B', 'M', 'B', 'B', 'B', 'B', 'B', 'B', 'B', 'B', 'B', 'B', 'B',\n       'M', 'B', 'M', 'M', 'B', 'B', 'B', 'B', 'B', 'B', 'B', 'B', 'B',\n       'B', 'B', 'B', 'B', 'B', 'B', 'B', 'B', 'B', 'B', 'B', 'B', 'B',\n       'B', 'B', 'B', 'M', 'M', 'M', 'M', 'M', 'M', 'B'], dtype='<U1')"
     },
     "metadata": {},
     "execution_count": 78
    }
   ],
   "source": [
    "y = np.genfromtxt('wdbc.data', delimiter=',', usecols=1, dtype=np.str)\n",
    "y"
   ]
  },
  {
   "cell_type": "code",
   "execution_count": 79,
   "metadata": {},
   "outputs": [
    {
     "output_type": "execute_result",
     "data": {
      "text/plain": "array([0, 0, 0, 0, 0, 0, 0, 0, 0, 0, 0, 0, 0, 0, 0, 0, 0, 0, 0, 1, 1, 1,\n       0, 0, 0, 0, 0, 0, 0, 0, 0, 0, 0, 0, 0, 0, 0, 1, 0, 0, 0, 0, 0, 0,\n       0, 0, 1, 0, 1, 1, 1, 1, 1, 0, 0, 1, 0, 0, 1, 1, 1, 1, 0, 1, 0, 0,\n       1, 1, 1, 1, 0, 1, 0, 0, 1, 0, 1, 0, 0, 1, 1, 1, 0, 0, 1, 0, 0, 0,\n       1, 1, 1, 0, 1, 1, 0, 0, 1, 1, 1, 0, 0, 1, 1, 1, 1, 0, 1, 1, 0, 1,\n       1, 1, 1, 1, 1, 1, 1, 0, 0, 0, 1, 0, 0, 1, 1, 1, 0, 0, 1, 0, 1, 0,\n       0, 1, 0, 0, 1, 1, 0, 1, 1, 0, 1, 1, 1, 1, 0, 1, 1, 1, 1, 1, 1, 1,\n       1, 1, 0, 1, 1, 1, 1, 0, 0, 1, 0, 1, 1, 0, 0, 1, 1, 0, 0, 1, 1, 1,\n       1, 0, 1, 1, 0, 0, 0, 1, 0, 1, 0, 1, 1, 1, 0, 1, 1, 0, 0, 1, 0, 0,\n       0, 0, 1, 0, 0, 0, 1, 0, 1, 0, 1, 1, 0, 1, 0, 0, 0, 0, 1, 1, 0, 0,\n       1, 1, 1, 0, 1, 1, 1, 1, 1, 0, 0, 1, 1, 0, 1, 1, 0, 0, 1, 0, 1, 1,\n       1, 1, 0, 1, 1, 1, 1, 1, 0, 1, 0, 0, 0, 0, 0, 0, 0, 0, 0, 0, 0, 0,\n       0, 0, 1, 1, 1, 1, 1, 1, 0, 1, 0, 1, 1, 0, 1, 1, 0, 1, 0, 0, 1, 1,\n       1, 1, 1, 1, 1, 1, 1, 1, 1, 1, 1, 0, 1, 1, 0, 1, 0, 1, 1, 1, 1, 1,\n       1, 1, 1, 1, 1, 1, 1, 1, 1, 0, 1, 1, 1, 0, 1, 0, 1, 1, 1, 1, 0, 0,\n       0, 1, 1, 1, 1, 0, 1, 0, 1, 0, 1, 1, 1, 0, 1, 1, 1, 1, 1, 1, 1, 0,\n       0, 0, 1, 1, 1, 1, 1, 1, 1, 1, 1, 1, 1, 0, 0, 1, 0, 0, 0, 1, 0, 0,\n       1, 1, 1, 1, 1, 0, 1, 1, 1, 1, 1, 0, 1, 1, 1, 0, 1, 1, 0, 0, 1, 1,\n       1, 1, 1, 1, 0, 1, 1, 1, 1, 1, 1, 1, 0, 1, 1, 1, 1, 1, 0, 1, 1, 0,\n       1, 1, 1, 1, 1, 1, 1, 1, 1, 1, 1, 1, 0, 1, 0, 0, 1, 0, 1, 1, 1, 1,\n       1, 0, 1, 1, 0, 1, 0, 1, 1, 0, 1, 0, 1, 1, 1, 1, 1, 1, 1, 1, 0, 0,\n       1, 1, 1, 1, 1, 1, 0, 1, 1, 1, 1, 1, 1, 1, 1, 1, 1, 0, 1, 1, 1, 1,\n       1, 1, 1, 0, 1, 0, 1, 1, 0, 1, 1, 1, 1, 1, 0, 0, 1, 0, 1, 0, 1, 1,\n       1, 1, 1, 0, 1, 1, 0, 1, 0, 1, 0, 0, 1, 1, 1, 0, 1, 1, 1, 1, 1, 1,\n       1, 1, 1, 1, 1, 0, 1, 0, 0, 1, 1, 1, 1, 1, 1, 1, 1, 1, 1, 1, 1, 1,\n       1, 1, 1, 1, 1, 1, 1, 1, 1, 1, 1, 1, 0, 0, 0, 0, 0, 0, 1])"
     },
     "metadata": {},
     "execution_count": 79
    }
   ],
   "source": [
    "y = np.where(y == 'B', 1, 0)\n",
    "y"
   ]
  },
  {
   "cell_type": "markdown",
   "metadata": {},
   "source": [
    "### 模型训练与测试"
   ]
  },
  {
   "cell_type": "code",
   "execution_count": 80,
   "metadata": {},
   "outputs": [],
   "source": [
    "from kd_tree import KDTree\n",
    "from sklearn.model_selection import train_test_split"
   ]
  },
  {
   "cell_type": "code",
   "execution_count": 81,
   "metadata": {},
   "outputs": [],
   "source": [
    "# 邻居个数设置为 3\n",
    "clf = KDTree(3)"
   ]
  },
  {
   "cell_type": "code",
   "execution_count": 82,
   "metadata": {},
   "outputs": [
    {
     "output_type": "execute_result",
     "data": {
      "text/plain": "(array([[2.073e+01, 3.112e+01, 1.357e+02, ..., 1.659e-01, 2.868e-01,\n         8.218e-02],\n        [1.959e+01, 1.815e+01, 1.307e+02, ..., 2.247e-01, 3.643e-01,\n         9.223e-02],\n        [2.137e+01, 1.510e+01, 1.413e+02, ..., 1.966e-01, 2.730e-01,\n         8.666e-02],\n        ...,\n        [1.919e+01, 1.594e+01, 1.263e+02, ..., 1.777e-01, 2.443e-01,\n         6.251e-02],\n        [1.088e+01, 1.562e+01, 7.041e+01, ..., 7.966e-02, 2.581e-01,\n         1.080e-01],\n        [1.231e+01, 1.652e+01, 7.919e+01, ..., 8.660e-02, 2.618e-01,\n         7.609e-02]]),\n array([[1.729e+01, 2.213e+01, 1.144e+02, ..., 1.528e-01, 3.067e-01,\n         7.484e-02],\n        [1.227e+01, 2.997e+01, 7.742e+01, ..., 0.000e+00, 2.409e-01,\n         6.743e-02],\n        [1.218e+01, 1.784e+01, 7.779e+01, ..., 5.882e-02, 2.227e-01,\n         7.376e-02],\n        ...,\n        [1.171e+01, 1.719e+01, 7.468e+01, ..., 1.099e-01, 2.572e-01,\n         7.097e-02],\n        [2.034e+01, 2.151e+01, 1.359e+02, ..., 2.685e-01, 5.558e-01,\n         1.024e-01],\n        [1.505e+01, 1.907e+01, 9.726e+01, ..., 1.120e-01, 2.282e-01,\n         6.954e-02]]),\n array([0, 0, 0, 1, 1, 1, 0, 1, 1, 0, 1, 1, 1, 1, 1, 1, 1, 1, 1, 1, 1, 1,\n        1, 1, 1, 1, 1, 1, 0, 1, 1, 0, 0, 1, 1, 1, 0, 1, 1, 1, 1, 0, 1, 1,\n        1, 1, 1, 1, 0, 1, 0, 1, 1, 1, 1, 1, 1, 0, 1, 1, 1, 1, 1, 1, 0, 1,\n        0, 1, 1, 1, 1, 1, 1, 0, 1, 0, 1, 0, 0, 1, 0, 0, 0, 1, 0, 0, 1, 1,\n        0, 1, 0, 1, 0, 1, 1, 1, 0, 0, 1, 0, 1, 0, 1, 1, 0, 0, 0, 1, 1, 1,\n        0, 1, 1, 1, 1, 1, 1, 1, 1, 1, 1, 1, 1, 1, 0, 1, 1, 0, 1, 1, 0, 0,\n        0, 1, 0, 1, 0, 0, 0, 1, 1, 0, 0, 1, 0, 1, 0, 1, 0, 1, 0, 1, 1, 0,\n        1, 1, 1, 1, 1, 1, 0, 1, 0, 1, 1, 1, 1, 1, 1, 0, 1, 0, 0, 0, 0, 1,\n        1, 0, 0, 1, 1, 1, 0, 0, 1, 0, 0, 1, 1, 0, 1, 1, 0, 1, 1, 0, 1, 0,\n        0, 1, 0, 1, 0, 0, 1, 0, 1, 0, 0, 1, 0, 1, 0, 1, 0, 1, 1, 1, 1, 1,\n        0, 0, 1, 1, 0, 1, 1, 1, 1, 1, 1, 1, 1, 1, 0, 1, 1, 1, 1, 1, 0, 1,\n        0, 0, 1, 1, 0, 1, 0, 1, 1, 1, 1, 0, 1, 0, 0, 0, 0, 1, 0, 1, 1, 0,\n        1, 0, 0, 0, 1, 1, 1, 1, 0, 1, 0, 0, 0, 0, 1, 1, 1, 0, 1, 1, 1, 1,\n        0, 0, 0, 0, 1, 1, 1, 0, 1, 1, 0, 0, 0, 1, 1, 1, 1, 1, 1, 1, 0, 0,\n        1, 1, 1, 0, 0, 1, 0, 1, 1, 0, 1, 1, 0, 1, 1, 0, 0, 0, 0, 1, 1, 1,\n        1, 1, 0, 0, 0, 1, 1, 1, 1, 0, 0, 0, 1, 1, 0, 1, 1, 0, 1, 1, 1, 1,\n        1, 1, 1, 0, 1, 1, 0, 1, 1, 1, 1, 1, 0, 0, 1, 1, 1, 1, 0, 0, 1, 1,\n        1, 1, 1, 1, 1, 1, 0, 1, 0, 1, 0, 1, 0, 1, 1, 1, 1, 0, 1, 0, 1, 0,\n        1, 1]),\n array([0, 1, 1, 1, 0, 0, 1, 1, 1, 0, 1, 0, 1, 0, 1, 1, 1, 0, 1, 0, 1, 1,\n        0, 1, 1, 1, 0, 1, 0, 1, 0, 1, 0, 1, 0, 1, 0, 1, 1, 1, 0, 0, 1, 0,\n        1, 1, 0, 0, 0, 0, 0, 1, 0, 0, 1, 1, 0, 1, 0, 1, 1, 0, 1, 1, 1, 0,\n        1, 1, 0, 1, 1, 0, 1, 0, 1, 1, 1, 1, 0, 0, 1, 1, 0, 1, 0, 1, 1, 1,\n        0, 1, 0, 1, 1, 0, 1, 1, 0, 1, 1, 1, 1, 1, 1, 0, 1, 1, 0, 1, 0, 0,\n        1, 1, 1, 1, 0, 1, 0, 1, 0, 1, 1, 0, 1, 0, 0, 1, 1, 1, 1, 0, 0, 0,\n        1, 0, 1, 1, 0, 0, 1, 0, 1, 0, 1, 1, 1, 0, 0, 1, 0, 1, 1, 1, 0, 1,\n        0, 1, 1, 1, 1, 0, 1, 1, 1, 1, 0, 1, 0, 0, 1, 0, 0]))"
     },
     "metadata": {},
     "execution_count": 82
    }
   ],
   "source": [
    "# 将数据集分为训练集和测试集(7:3开)\n",
    "X_train, X_test, y_train, y_test = train_test_split(X, y, test_size=0.3)\n",
    "X_train, X_test, y_train, y_test"
   ]
  },
  {
   "cell_type": "code",
   "execution_count": 83,
   "metadata": {},
   "outputs": [],
   "source": [
    "clf.train(X_train, y_train)"
   ]
  },
  {
   "cell_type": "code",
   "execution_count": 84,
   "metadata": {
    "tags": []
   },
   "outputs": [
    {
     "output_type": "stream",
     "name": "stdout",
     "text": "准确率为 92.3977%\n"
    }
   ],
   "source": [
    "from sklearn.metrics import accuracy_score\n",
    "\n",
    "y_pred = clf.predict(X_test)\n",
    "accuracy = accuracy_score(y_test, y_pred)\n",
    "print('准确率为 {:.4%}'.format(accuracy))"
   ]
  },
  {
   "cell_type": "code",
   "execution_count": 85,
   "metadata": {
    "tags": []
   },
   "outputs": [
    {
     "output_type": "stream",
     "name": "stdout",
     "text": "平均准确率为 92.3977%\n"
    }
   ],
   "source": [
    "# 50次测试\n",
    "# 这里未对X各个特征进行归一化处理,可能会导致预测准确率偏低\n",
    "def test(X, y, k):\n",
    "    X_train, X_test, y_train, y_test = train_test_split(X, y, test_size=0.3)\n",
    "    clf = KDTree(k)\n",
    "    clf.train(X_train, y_train)\n",
    "    y_pred = clf.predict(X_test)\n",
    "    accuracy = accuracy_score(y_test, y_pred)\n",
    "    return accuracy\n",
    "\n",
    "accuracy_mean = np.mean([test(X, y, 3) for _ in range(50)])\n",
    "print('平均准确率为 {:.4%}'.format(accuracy))"
   ]
  },
  {
   "cell_type": "code",
   "execution_count": 89,
   "metadata": {
    "tags": []
   },
   "outputs": [
    {
     "output_type": "stream",
     "name": "stdout",
     "text": "归一化后平均准确率为 92.3977%\n"
    }
   ],
   "source": [
    "# 对X各个特征进行归一化处理试试看\n",
    "from sklearn.preprocessing import MinMaxScaler\n",
    "\n",
    "def test_norm(X, y, k):\n",
    "    X_train, X_test, y_train, y_test = train_test_split(X, y, test_size=0.3)\n",
    "\n",
    "    mms = MinMaxScaler()\n",
    "    X_train_norm = mms.fit_transform(X_train)\n",
    "    X_test_norm = mms.transform(X_test)\n",
    "\n",
    "    clf = KDTree(k)\n",
    "    clf.train(X_train_norm, y_train)\n",
    "    y_pred = clf.predict(X_test_norm)\n",
    "\n",
    "    accuracy = accuracy_score(y_test, y_pred)\n",
    "    return accuracy\n",
    "\n",
    "accuracy_mean = np.mean([test_norm(X, y, 3) for _ in range(50)])\n",
    "print('归一化后平均准确率为 {:.4%}'.format(accuracy))"
   ]
  },
  {
   "cell_type": "code",
   "execution_count": 87,
   "metadata": {},
   "outputs": [
    {
     "output_type": "execute_result",
     "data": {
      "text/plain": "[1, 3, 5, 7, 9, 11, 13, 15, 17, 19]"
     },
     "metadata": {},
     "execution_count": 87
    }
   ],
   "source": [
    "# 再来考察取不同的 k 值(20以内奇数),预测准确率变化情况\n",
    "K = list(range(1, 20, 2))\n",
    "K"
   ]
  },
  {
   "cell_type": "code",
   "execution_count": 95,
   "metadata": {},
   "outputs": [
    {
     "output_type": "execute_result",
     "data": {
      "text/plain": "array([0.95157895, 0.96538012, 0.96608187, 0.96573099, 0.96502924,\n       0.96748538, 0.96280702, 0.96479532, 0.96105263, 0.95836257])"
     },
     "metadata": {},
     "execution_count": 95
    }
   ],
   "source": [
    "acc_array = [[test_norm(X, y, k) for _ in range(50)] for k in K]\n",
    "ret = np.mean(acc_array, axis=1)\n",
    "ret"
   ]
  },
  {
   "cell_type": "code",
   "execution_count": 110,
   "metadata": {},
   "outputs": [
    {
     "output_type": "execute_result",
     "data": {
      "text/plain": "[<matplotlib.lines.Line2D at 0x125336a50>]"
     },
     "metadata": {},
     "execution_count": 110
    },
    {
     "output_type": "display_data",
     "data": {
      "text/plain": "<Figure size 432x288 with 1 Axes>",
      "image/svg+xml": "<?xml version=\"1.0\" encoding=\"utf-8\" standalone=\"no\"?>\n<!DOCTYPE svg PUBLIC \"-//W3C//DTD SVG 1.1//EN\"\n  \"http://www.w3.org/Graphics/SVG/1.1/DTD/svg11.dtd\">\n<!-- Created with matplotlib (https://matplotlib.org/) -->\n<svg height=\"250.382969pt\" version=\"1.1\" viewBox=\"0 0 381.2 250.382969\" width=\"381.2pt\" xmlns=\"http://www.w3.org/2000/svg\" xmlns:xlink=\"http://www.w3.org/1999/xlink\">\n <defs>\n  <style type=\"text/css\">\n*{stroke-linecap:butt;stroke-linejoin:round;}\n  </style>\n </defs>\n <g id=\"figure_1\">\n  <g id=\"patch_1\">\n   <path d=\"M 0 250.382969 \nL 381.2 250.382969 \nL 381.2 0 \nL 0 0 \nz\n\" style=\"fill:none;\"/>\n  </g>\n  <g id=\"axes_1\">\n   <g id=\"patch_2\">\n    <path d=\"M 39.2 228.057969 \nL 374 228.057969 \nL 374 10.617969 \nL 39.2 10.617969 \nz\n\" style=\"fill:#ffffff;\"/>\n   </g>\n   <g id=\"matplotlib.axis_1\">\n    <g id=\"xtick_1\">\n     <g id=\"line2d_1\">\n      <defs>\n       <path d=\"M 0 0 \nL 0 3.5 \n\" id=\"m8dc2c8ce4c\" style=\"stroke:#000000;stroke-width:0.8;\"/>\n      </defs>\n      <g>\n       <use style=\"stroke:#000000;stroke-width:0.8;\" x=\"54.418182\" xlink:href=\"#m8dc2c8ce4c\" y=\"228.057969\"/>\n      </g>\n     </g>\n     <g id=\"text_1\">\n      <!-- 1 -->\n      <defs>\n       <path d=\"M 30.46875 1.5625 \nL 21.484375 1.5625 \nL 21.484375 53.515625 \nL 9.765625 53.515625 \nL 9.765625 58.203125 \nQ 16.796875 58.203125 20.703125 60.9375 \nQ 24.609375 63.671875 25.78125 69.140625 \nL 30.46875 69.140625 \nz\n\" id=\"SimHei-49\"/>\n      </defs>\n      <g transform=\"translate(51.918182 241.893906)scale(0.1 -0.1)\">\n       <use xlink:href=\"#SimHei-49\"/>\n      </g>\n     </g>\n    </g>\n    <g id=\"xtick_2\">\n     <g id=\"line2d_2\">\n      <g>\n       <use style=\"stroke:#000000;stroke-width:0.8;\" x=\"88.236364\" xlink:href=\"#m8dc2c8ce4c\" y=\"228.057969\"/>\n      </g>\n     </g>\n     <g id=\"text_2\">\n      <!-- 3 -->\n      <defs>\n       <path d=\"M 44.140625 20.3125 \nQ 44.140625 11.328125 38.46875 6.046875 \nQ 32.8125 0.78125 24.21875 0.78125 \nQ 15.625 0.78125 9.953125 6.046875 \nQ 4.296875 11.328125 4.296875 22.265625 \nL 13.28125 22.265625 \nQ 13.28125 14.84375 16.203125 11.515625 \nQ 19.140625 8.203125 24.21875 8.203125 \nQ 29.296875 8.203125 32.03125 11.328125 \nQ 34.765625 14.453125 34.765625 21.09375 \nQ 34.765625 26.5625 31.828125 29.6875 \nQ 28.90625 32.8125 21.484375 32.8125 \nL 21.484375 39.453125 \nQ 27.734375 39.453125 30.65625 42.578125 \nQ 33.59375 45.703125 33.59375 51.953125 \nQ 33.59375 56.640625 31.4375 59.375 \nQ 29.296875 62.109375 24.609375 62.109375 \nQ 19.921875 62.109375 17.375 58.78125 \nQ 14.84375 55.46875 14.453125 49.21875 \nL 5.859375 49.21875 \nQ 6.640625 58.203125 11.515625 63.671875 \nQ 16.40625 69.140625 24.609375 69.140625 \nQ 33.203125 69.140625 37.890625 64.25 \nQ 42.578125 59.375 42.578125 52.34375 \nQ 42.578125 45.703125 40.234375 41.984375 \nQ 37.890625 38.28125 32.421875 36.328125 \nQ 37.890625 35.15625 41.015625 30.859375 \nQ 44.140625 26.5625 44.140625 20.3125 \nz\n\" id=\"SimHei-51\"/>\n      </defs>\n      <g transform=\"translate(85.736364 241.893906)scale(0.1 -0.1)\">\n       <use xlink:href=\"#SimHei-51\"/>\n      </g>\n     </g>\n    </g>\n    <g id=\"xtick_3\">\n     <g id=\"line2d_3\">\n      <g>\n       <use style=\"stroke:#000000;stroke-width:0.8;\" x=\"122.054545\" xlink:href=\"#m8dc2c8ce4c\" y=\"228.057969\"/>\n      </g>\n     </g>\n     <g id=\"text_3\">\n      <!-- 5 -->\n      <defs>\n       <path d=\"M 44.140625 25.78125 \nQ 44.140625 14.0625 38.46875 7.421875 \nQ 32.8125 0.78125 23.4375 0.78125 \nQ 15.234375 0.78125 9.953125 6.25 \nQ 4.6875 11.71875 4.296875 21.09375 \nL 13.28125 21.09375 \nQ 13.28125 15.234375 16.015625 11.71875 \nQ 18.75 8.203125 23.828125 8.203125 \nQ 28.90625 8.203125 31.828125 12.5 \nQ 34.765625 16.796875 34.765625 25.78125 \nQ 34.765625 33.59375 32.21875 37.296875 \nQ 29.6875 41.015625 25.390625 41.015625 \nQ 21.875 41.015625 19.328125 39.453125 \nQ 16.796875 37.890625 14.453125 33.984375 \nL 6.640625 33.984375 \nL 8.984375 68.359375 \nL 42.578125 68.359375 \nL 42.578125 60.9375 \nL 16.40625 60.9375 \nL 14.84375 42.96875 \nQ 17.1875 45.3125 19.921875 46.484375 \nQ 22.65625 47.65625 27.34375 47.65625 \nQ 34.765625 47.65625 39.453125 41.984375 \nQ 44.140625 36.328125 44.140625 25.78125 \nz\n\" id=\"SimHei-53\"/>\n      </defs>\n      <g transform=\"translate(119.554545 241.893906)scale(0.1 -0.1)\">\n       <use xlink:href=\"#SimHei-53\"/>\n      </g>\n     </g>\n    </g>\n    <g id=\"xtick_4\">\n     <g id=\"line2d_4\">\n      <g>\n       <use style=\"stroke:#000000;stroke-width:0.8;\" x=\"155.872727\" xlink:href=\"#m8dc2c8ce4c\" y=\"228.057969\"/>\n      </g>\n     </g>\n     <g id=\"text_4\">\n      <!-- 7 -->\n      <defs>\n       <path d=\"M 43.359375 60.15625 \nL 25 1.5625 \nL 16.015625 1.5625 \nL 34.765625 60.9375 \nL 6.25 60.9375 \nL 6.25 68.359375 \nL 43.359375 68.359375 \nz\n\" id=\"SimHei-55\"/>\n      </defs>\n      <g transform=\"translate(153.372727 241.893906)scale(0.1 -0.1)\">\n       <use xlink:href=\"#SimHei-55\"/>\n      </g>\n     </g>\n    </g>\n    <g id=\"xtick_5\">\n     <g id=\"line2d_5\">\n      <g>\n       <use style=\"stroke:#000000;stroke-width:0.8;\" x=\"189.690909\" xlink:href=\"#m8dc2c8ce4c\" y=\"228.057969\"/>\n      </g>\n     </g>\n     <g id=\"text_5\">\n      <!-- 9 -->\n      <defs>\n       <path d=\"M 44.140625 35.9375 \nQ 44.140625 19.921875 38.46875 10.34375 \nQ 32.8125 0.78125 22.265625 0.78125 \nQ 14.84375 0.78125 10.34375 6.25 \nQ 5.859375 11.71875 5.859375 18.359375 \nL 14.84375 18.359375 \nQ 14.84375 14.453125 16.984375 11.328125 \nQ 19.140625 8.203125 22.65625 8.203125 \nQ 28.515625 8.203125 31.4375 14.84375 \nQ 34.375 21.484375 35.15625 34.375 \nQ 33.203125 30.078125 29.6875 27.734375 \nQ 26.171875 25.390625 21.875 25.390625 \nQ 14.453125 25.390625 9.765625 30.859375 \nQ 5.078125 36.328125 5.078125 46.484375 \nQ 5.078125 56.640625 9.765625 62.890625 \nQ 14.453125 69.140625 23.828125 69.140625 \nQ 33.203125 69.140625 38.671875 61.328125 \nQ 44.140625 53.515625 44.140625 35.9375 \nz\nM 34.375 44.921875 \nQ 34.375 53.515625 31.4375 57.8125 \nQ 28.515625 62.109375 23.4375 62.109375 \nQ 19.921875 62.109375 17.1875 58.78125 \nQ 14.453125 55.46875 14.453125 46.484375 \nQ 14.453125 39.84375 16.59375 36.125 \nQ 18.75 32.421875 23.4375 32.421875 \nQ 28.515625 32.421875 31.4375 35.9375 \nQ 34.375 39.453125 34.375 44.921875 \nz\n\" id=\"SimHei-57\"/>\n      </defs>\n      <g transform=\"translate(187.190909 241.893906)scale(0.1 -0.1)\">\n       <use xlink:href=\"#SimHei-57\"/>\n      </g>\n     </g>\n    </g>\n    <g id=\"xtick_6\">\n     <g id=\"line2d_6\">\n      <g>\n       <use style=\"stroke:#000000;stroke-width:0.8;\" x=\"223.509091\" xlink:href=\"#m8dc2c8ce4c\" y=\"228.057969\"/>\n      </g>\n     </g>\n     <g id=\"text_6\">\n      <!-- 11 -->\n      <g transform=\"translate(218.509091 241.893906)scale(0.1 -0.1)\">\n       <use xlink:href=\"#SimHei-49\"/>\n       <use x=\"50\" xlink:href=\"#SimHei-49\"/>\n      </g>\n     </g>\n    </g>\n    <g id=\"xtick_7\">\n     <g id=\"line2d_7\">\n      <g>\n       <use style=\"stroke:#000000;stroke-width:0.8;\" x=\"257.327273\" xlink:href=\"#m8dc2c8ce4c\" y=\"228.057969\"/>\n      </g>\n     </g>\n     <g id=\"text_7\">\n      <!-- 13 -->\n      <g transform=\"translate(252.327273 241.893906)scale(0.1 -0.1)\">\n       <use xlink:href=\"#SimHei-49\"/>\n       <use x=\"50\" xlink:href=\"#SimHei-51\"/>\n      </g>\n     </g>\n    </g>\n    <g id=\"xtick_8\">\n     <g id=\"line2d_8\">\n      <g>\n       <use style=\"stroke:#000000;stroke-width:0.8;\" x=\"291.145455\" xlink:href=\"#m8dc2c8ce4c\" y=\"228.057969\"/>\n      </g>\n     </g>\n     <g id=\"text_8\">\n      <!-- 15 -->\n      <g transform=\"translate(286.145455 241.893906)scale(0.1 -0.1)\">\n       <use xlink:href=\"#SimHei-49\"/>\n       <use x=\"50\" xlink:href=\"#SimHei-53\"/>\n      </g>\n     </g>\n    </g>\n    <g id=\"xtick_9\">\n     <g id=\"line2d_9\">\n      <g>\n       <use style=\"stroke:#000000;stroke-width:0.8;\" x=\"324.963636\" xlink:href=\"#m8dc2c8ce4c\" y=\"228.057969\"/>\n      </g>\n     </g>\n     <g id=\"text_9\">\n      <!-- 17 -->\n      <g transform=\"translate(319.963636 241.893906)scale(0.1 -0.1)\">\n       <use xlink:href=\"#SimHei-49\"/>\n       <use x=\"50\" xlink:href=\"#SimHei-55\"/>\n      </g>\n     </g>\n    </g>\n    <g id=\"xtick_10\">\n     <g id=\"line2d_10\">\n      <g>\n       <use style=\"stroke:#000000;stroke-width:0.8;\" x=\"358.781818\" xlink:href=\"#m8dc2c8ce4c\" y=\"228.057969\"/>\n      </g>\n     </g>\n     <g id=\"text_10\">\n      <!-- 19 -->\n      <g transform=\"translate(353.781818 241.893906)scale(0.1 -0.1)\">\n       <use xlink:href=\"#SimHei-49\"/>\n       <use x=\"50\" xlink:href=\"#SimHei-57\"/>\n      </g>\n     </g>\n    </g>\n   </g>\n   <g id=\"matplotlib.axis_2\">\n    <g id=\"ytick_1\">\n     <g id=\"line2d_11\">\n      <defs>\n       <path d=\"M 0 0 \nL -3.5 0 \n\" id=\"m8c9b1ec3c2\" style=\"stroke:#000000;stroke-width:0.8;\"/>\n      </defs>\n      <g>\n       <use style=\"stroke:#000000;stroke-width:0.8;\" x=\"39.2\" xlink:href=\"#m8c9b1ec3c2\" y=\"228.057969\"/>\n      </g>\n     </g>\n     <g id=\"text_11\">\n      <!-- 0.800 -->\n      <defs>\n       <path d=\"M 46.484375 35.15625 \nQ 46.484375 21.09375 41.40625 10.9375 \nQ 36.328125 0.78125 25 0.78125 \nQ 13.671875 0.78125 8.390625 10.9375 \nQ 3.125 21.09375 3.125 35.15625 \nQ 3.125 49.21875 8.390625 59.171875 \nQ 13.671875 69.140625 25 69.140625 \nQ 36.328125 69.140625 41.40625 59.171875 \nQ 46.484375 49.21875 46.484375 35.15625 \nz\nM 37.109375 35.15625 \nQ 37.109375 47.65625 34.171875 54.6875 \nQ 31.25 61.71875 25 61.71875 \nQ 18.75 61.71875 15.625 54.6875 \nQ 12.5 47.65625 12.5 35.15625 \nQ 12.5 22.65625 15.625 15.421875 \nQ 18.75 8.203125 25 8.203125 \nQ 31.25 8.203125 34.171875 15.421875 \nQ 37.109375 22.65625 37.109375 35.15625 \nz\n\" id=\"SimHei-48\"/>\n       <path d=\"M 17.1875 1.5625 \nL 8.203125 1.5625 \nL 8.203125 10.15625 \nL 17.1875 10.15625 \nz\n\" id=\"SimHei-46\"/>\n       <path d=\"M 44.921875 20.703125 \nQ 44.921875 10.9375 39.453125 5.859375 \nQ 33.984375 0.78125 24.609375 0.78125 \nQ 15.234375 0.78125 9.765625 5.859375 \nQ 4.296875 10.9375 4.296875 20.703125 \nQ 4.296875 25.78125 7.421875 29.875 \nQ 10.546875 33.984375 16.015625 35.9375 \nQ 11.328125 37.890625 8.78125 41.40625 \nQ 6.25 44.921875 6.25 50.390625 \nQ 6.25 58.984375 11.71875 64.0625 \nQ 17.1875 69.140625 24.609375 69.140625 \nQ 32.03125 69.140625 37.5 64.0625 \nQ 42.96875 58.984375 42.96875 50.390625 \nQ 42.96875 44.921875 40.421875 41.40625 \nQ 37.890625 37.890625 33.203125 35.9375 \nQ 38.671875 33.984375 41.796875 29.875 \nQ 44.921875 25.78125 44.921875 20.703125 \nz\nM 34.375 50.390625 \nQ 34.375 56.640625 31.640625 59.375 \nQ 28.90625 62.109375 24.609375 62.109375 \nQ 20.3125 62.109375 17.578125 59.375 \nQ 14.84375 56.640625 14.84375 50.390625 \nQ 14.84375 44.140625 17.765625 41.59375 \nQ 20.703125 39.0625 24.609375 39.0625 \nQ 28.515625 39.0625 31.4375 41.59375 \nQ 34.375 44.140625 34.375 50.390625 \nz\nM 35.9375 20.703125 \nQ 35.9375 26.171875 33 29.296875 \nQ 30.078125 32.421875 24.609375 32.421875 \nQ 19.140625 32.421875 16.203125 29.296875 \nQ 13.28125 26.171875 13.28125 20.703125 \nQ 13.28125 14.453125 16.40625 11.125 \nQ 19.53125 7.8125 24.609375 7.8125 \nQ 29.6875 7.8125 32.8125 11.125 \nQ 35.9375 14.453125 35.9375 20.703125 \nz\n\" id=\"SimHei-56\"/>\n      </defs>\n      <g transform=\"translate(7.2 231.475937)scale(0.1 -0.1)\">\n       <use xlink:href=\"#SimHei-48\"/>\n       <use x=\"50\" xlink:href=\"#SimHei-46\"/>\n       <use x=\"100\" xlink:href=\"#SimHei-56\"/>\n       <use x=\"150\" xlink:href=\"#SimHei-48\"/>\n       <use x=\"200\" xlink:href=\"#SimHei-48\"/>\n      </g>\n     </g>\n    </g>\n    <g id=\"ytick_2\">\n     <g id=\"line2d_12\">\n      <g>\n       <use style=\"stroke:#000000;stroke-width:0.8;\" x=\"39.2\" xlink:href=\"#m8c9b1ec3c2\" y=\"200.877969\"/>\n      </g>\n     </g>\n     <g id=\"text_12\">\n      <!-- 0.825 -->\n      <defs>\n       <path d=\"M 44.53125 1.5625 \nL 4.6875 1.5625 \nL 4.6875 7.8125 \nQ 7.03125 14.0625 11.125 19.328125 \nQ 15.234375 24.609375 23.046875 31.25 \nQ 28.90625 36.328125 31.4375 40.625 \nQ 33.984375 44.921875 33.984375 50 \nQ 33.984375 55.078125 31.828125 58.390625 \nQ 29.6875 61.71875 25 61.71875 \nQ 21.09375 61.71875 18.15625 58.203125 \nQ 15.234375 54.6875 15.234375 45.703125 \nL 6.25 45.703125 \nQ 6.640625 57.03125 11.515625 63.078125 \nQ 16.40625 69.140625 25.390625 69.140625 \nQ 33.984375 69.140625 38.671875 63.859375 \nQ 43.359375 58.59375 43.359375 49.609375 \nQ 43.359375 42.1875 39.0625 36.71875 \nQ 34.765625 31.25 28.515625 25.78125 \nQ 21.484375 19.53125 18.75 16.40625 \nQ 16.015625 13.28125 13.671875 8.984375 \nL 44.53125 8.984375 \nz\n\" id=\"SimHei-50\"/>\n      </defs>\n      <g transform=\"translate(7.2 204.295937)scale(0.1 -0.1)\">\n       <use xlink:href=\"#SimHei-48\"/>\n       <use x=\"50\" xlink:href=\"#SimHei-46\"/>\n       <use x=\"100\" xlink:href=\"#SimHei-56\"/>\n       <use x=\"150\" xlink:href=\"#SimHei-50\"/>\n       <use x=\"200\" xlink:href=\"#SimHei-53\"/>\n      </g>\n     </g>\n    </g>\n    <g id=\"ytick_3\">\n     <g id=\"line2d_13\">\n      <g>\n       <use style=\"stroke:#000000;stroke-width:0.8;\" x=\"39.2\" xlink:href=\"#m8c9b1ec3c2\" y=\"173.697969\"/>\n      </g>\n     </g>\n     <g id=\"text_13\">\n      <!-- 0.850 -->\n      <g transform=\"translate(7.2 177.115937)scale(0.1 -0.1)\">\n       <use xlink:href=\"#SimHei-48\"/>\n       <use x=\"50\" xlink:href=\"#SimHei-46\"/>\n       <use x=\"100\" xlink:href=\"#SimHei-56\"/>\n       <use x=\"150\" xlink:href=\"#SimHei-53\"/>\n       <use x=\"200\" xlink:href=\"#SimHei-48\"/>\n      </g>\n     </g>\n    </g>\n    <g id=\"ytick_4\">\n     <g id=\"line2d_14\">\n      <g>\n       <use style=\"stroke:#000000;stroke-width:0.8;\" x=\"39.2\" xlink:href=\"#m8c9b1ec3c2\" y=\"146.517969\"/>\n      </g>\n     </g>\n     <g id=\"text_14\">\n      <!-- 0.875 -->\n      <g transform=\"translate(7.2 149.935938)scale(0.1 -0.1)\">\n       <use xlink:href=\"#SimHei-48\"/>\n       <use x=\"50\" xlink:href=\"#SimHei-46\"/>\n       <use x=\"100\" xlink:href=\"#SimHei-56\"/>\n       <use x=\"150\" xlink:href=\"#SimHei-55\"/>\n       <use x=\"200\" xlink:href=\"#SimHei-53\"/>\n      </g>\n     </g>\n    </g>\n    <g id=\"ytick_5\">\n     <g id=\"line2d_15\">\n      <g>\n       <use style=\"stroke:#000000;stroke-width:0.8;\" x=\"39.2\" xlink:href=\"#m8c9b1ec3c2\" y=\"119.337969\"/>\n      </g>\n     </g>\n     <g id=\"text_15\">\n      <!-- 0.900 -->\n      <g transform=\"translate(7.2 122.755937)scale(0.1 -0.1)\">\n       <use xlink:href=\"#SimHei-48\"/>\n       <use x=\"50\" xlink:href=\"#SimHei-46\"/>\n       <use x=\"100\" xlink:href=\"#SimHei-57\"/>\n       <use x=\"150\" xlink:href=\"#SimHei-48\"/>\n       <use x=\"200\" xlink:href=\"#SimHei-48\"/>\n      </g>\n     </g>\n    </g>\n    <g id=\"ytick_6\">\n     <g id=\"line2d_16\">\n      <g>\n       <use style=\"stroke:#000000;stroke-width:0.8;\" x=\"39.2\" xlink:href=\"#m8c9b1ec3c2\" y=\"92.157969\"/>\n      </g>\n     </g>\n     <g id=\"text_16\">\n      <!-- 0.925 -->\n      <g transform=\"translate(7.2 95.575937)scale(0.1 -0.1)\">\n       <use xlink:href=\"#SimHei-48\"/>\n       <use x=\"50\" xlink:href=\"#SimHei-46\"/>\n       <use x=\"100\" xlink:href=\"#SimHei-57\"/>\n       <use x=\"150\" xlink:href=\"#SimHei-50\"/>\n       <use x=\"200\" xlink:href=\"#SimHei-53\"/>\n      </g>\n     </g>\n    </g>\n    <g id=\"ytick_7\">\n     <g id=\"line2d_17\">\n      <g>\n       <use style=\"stroke:#000000;stroke-width:0.8;\" x=\"39.2\" xlink:href=\"#m8c9b1ec3c2\" y=\"64.977969\"/>\n      </g>\n     </g>\n     <g id=\"text_17\">\n      <!-- 0.950 -->\n      <g transform=\"translate(7.2 68.395937)scale(0.1 -0.1)\">\n       <use xlink:href=\"#SimHei-48\"/>\n       <use x=\"50\" xlink:href=\"#SimHei-46\"/>\n       <use x=\"100\" xlink:href=\"#SimHei-57\"/>\n       <use x=\"150\" xlink:href=\"#SimHei-53\"/>\n       <use x=\"200\" xlink:href=\"#SimHei-48\"/>\n      </g>\n     </g>\n    </g>\n    <g id=\"ytick_8\">\n     <g id=\"line2d_18\">\n      <g>\n       <use style=\"stroke:#000000;stroke-width:0.8;\" x=\"39.2\" xlink:href=\"#m8c9b1ec3c2\" y=\"37.797969\"/>\n      </g>\n     </g>\n     <g id=\"text_18\">\n      <!-- 0.975 -->\n      <g transform=\"translate(7.2 41.215937)scale(0.1 -0.1)\">\n       <use xlink:href=\"#SimHei-48\"/>\n       <use x=\"50\" xlink:href=\"#SimHei-46\"/>\n       <use x=\"100\" xlink:href=\"#SimHei-57\"/>\n       <use x=\"150\" xlink:href=\"#SimHei-55\"/>\n       <use x=\"200\" xlink:href=\"#SimHei-53\"/>\n      </g>\n     </g>\n    </g>\n    <g id=\"ytick_9\">\n     <g id=\"line2d_19\">\n      <g>\n       <use style=\"stroke:#000000;stroke-width:0.8;\" x=\"39.2\" xlink:href=\"#m8c9b1ec3c2\" y=\"10.617969\"/>\n      </g>\n     </g>\n     <g id=\"text_19\">\n      <!-- 1.000 -->\n      <g transform=\"translate(7.2 14.035937)scale(0.1 -0.1)\">\n       <use xlink:href=\"#SimHei-49\"/>\n       <use x=\"50\" xlink:href=\"#SimHei-46\"/>\n       <use x=\"100\" xlink:href=\"#SimHei-48\"/>\n       <use x=\"150\" xlink:href=\"#SimHei-48\"/>\n       <use x=\"200\" xlink:href=\"#SimHei-48\"/>\n      </g>\n     </g>\n    </g>\n   </g>\n   <g id=\"line2d_20\">\n    <path clip-path=\"url(#p2b30435590)\" d=\"M 54.418182 63.261337 \nL 88.236364 48.256706 \nL 122.054545 47.493758 \nL 155.872727 47.875232 \nL 189.690909 48.638179 \nL 223.509091 45.967863 \nL 257.327273 51.054179 \nL 291.145455 48.892495 \nL 324.963636 52.961548 \nL 358.781818 55.886179 \n\" style=\"fill:none;stroke:#00bfbf;stroke-dasharray:5.55,2.4;stroke-dashoffset:0;stroke-width:1.5;\"/>\n    <defs>\n     <path d=\"M 0 3 \nC 0.795609 3 1.55874 2.683901 2.12132 2.12132 \nC 2.683901 1.55874 3 0.795609 3 0 \nC 3 -0.795609 2.683901 -1.55874 2.12132 -2.12132 \nC 1.55874 -2.683901 0.795609 -3 0 -3 \nC -0.795609 -3 -1.55874 -2.683901 -2.12132 -2.12132 \nC -2.683901 -1.55874 -3 -0.795609 -3 0 \nC -3 0.795609 -2.683901 1.55874 -2.12132 2.12132 \nC -1.55874 2.683901 -0.795609 3 0 3 \nz\n\" id=\"m1e791250e9\" style=\"stroke:#00bfbf;\"/>\n    </defs>\n    <g clip-path=\"url(#p2b30435590)\">\n     <use style=\"fill:#00bfbf;stroke:#00bfbf;\" x=\"54.418182\" xlink:href=\"#m1e791250e9\" y=\"63.261337\"/>\n     <use style=\"fill:#00bfbf;stroke:#00bfbf;\" x=\"88.236364\" xlink:href=\"#m1e791250e9\" y=\"48.256706\"/>\n     <use style=\"fill:#00bfbf;stroke:#00bfbf;\" x=\"122.054545\" xlink:href=\"#m1e791250e9\" y=\"47.493758\"/>\n     <use style=\"fill:#00bfbf;stroke:#00bfbf;\" x=\"155.872727\" xlink:href=\"#m1e791250e9\" y=\"47.875232\"/>\n     <use style=\"fill:#00bfbf;stroke:#00bfbf;\" x=\"189.690909\" xlink:href=\"#m1e791250e9\" y=\"48.638179\"/>\n     <use style=\"fill:#00bfbf;stroke:#00bfbf;\" x=\"223.509091\" xlink:href=\"#m1e791250e9\" y=\"45.967863\"/>\n     <use style=\"fill:#00bfbf;stroke:#00bfbf;\" x=\"257.327273\" xlink:href=\"#m1e791250e9\" y=\"51.054179\"/>\n     <use style=\"fill:#00bfbf;stroke:#00bfbf;\" x=\"291.145455\" xlink:href=\"#m1e791250e9\" y=\"48.892495\"/>\n     <use style=\"fill:#00bfbf;stroke:#00bfbf;\" x=\"324.963636\" xlink:href=\"#m1e791250e9\" y=\"52.961548\"/>\n     <use style=\"fill:#00bfbf;stroke:#00bfbf;\" x=\"358.781818\" xlink:href=\"#m1e791250e9\" y=\"55.886179\"/>\n    </g>\n   </g>\n   <g id=\"patch_3\">\n    <path d=\"M 39.2 228.057969 \nL 39.2 10.617969 \n\" style=\"fill:none;stroke:#000000;stroke-linecap:square;stroke-linejoin:miter;stroke-width:0.8;\"/>\n   </g>\n   <g id=\"patch_4\">\n    <path d=\"M 374 228.057969 \nL 374 10.617969 \n\" style=\"fill:none;stroke:#000000;stroke-linecap:square;stroke-linejoin:miter;stroke-width:0.8;\"/>\n   </g>\n   <g id=\"patch_5\">\n    <path d=\"M 39.2 228.057969 \nL 374 228.057969 \n\" style=\"fill:none;stroke:#000000;stroke-linecap:square;stroke-linejoin:miter;stroke-width:0.8;\"/>\n   </g>\n   <g id=\"patch_6\">\n    <path d=\"M 39.2 10.617969 \nL 374 10.617969 \n\" style=\"fill:none;stroke:#000000;stroke-linecap:square;stroke-linejoin:miter;stroke-width:0.8;\"/>\n   </g>\n  </g>\n </g>\n <defs>\n  <clipPath id=\"p2b30435590\">\n   <rect height=\"217.44\" width=\"334.8\" x=\"39.2\" y=\"10.617969\"/>\n  </clipPath>\n </defs>\n</svg>\n",
      "image/png": "[encoded data removed]"
     },
     "metadata": {
      "needs_background": "light"
     }
    }
   ],
   "source": [
    "import matplotlib.pyplot as plt\n",
    "plt.xticks(np.arange(1, 20, 2))\n",
    "plt.ylim(0.8, 1)\n",
    "plt.plot(K, ret, 'oc--')"
   ]
  },
  {
   "cell_type": "markdown",
   "metadata": {},
   "source": [
    "可以发现,对于当前这个分类问题,不同 k 对模型性能影响不大"
   ]
  }
 ],
 "metadata": {
  "language_info": {
   "codemirror_mode": {
    "name": "ipython",
    "version": 3
   },
   "file_extension": ".py",
   "mimetype": "text/x-python",
   "name": "python",
   "nbconvert_exporter": "python",
   "pygments_lexer": "ipython3",
   "version": "3.7.5-final"
  },
  "orig_nbformat": 2,
  "kernelspec": {
   "name": "python37564bitf9d8712fa2a44abfab611268866e8143",
   "display_name": "Python 3.7.5 64-bit"
  }
 },
 "nbformat": 4,
 "nbformat_minor": 2
}