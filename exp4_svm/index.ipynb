{
 "cells": [
  {
   "cell_type": "code",
   "execution_count": 11,
   "metadata": {},
   "outputs": [],
   "source": [
    "import numpy as np"
   ]
  },
  {
   "cell_type": "markdown",
   "metadata": {},
   "source": [
    "### 1.准备数据"
   ]
  },
  {
   "cell_type": "code",
   "execution_count": 12,
   "metadata": {},
   "outputs": [
    {
     "output_type": "execute_result",
     "data": {
      "text/plain": "array([[ 2.,  8.,  3., ...,  8.,  0.,  8.],\n       [ 5., 12.,  3., ...,  8.,  4., 10.],\n       [ 4., 11.,  6., ...,  7.,  3.,  9.],\n       ...,\n       [ 6.,  9.,  6., ..., 12.,  2.,  4.],\n       [ 2.,  3.,  4., ...,  9.,  5.,  8.],\n       [ 4.,  9.,  6., ...,  7.,  2.,  8.]])"
     },
     "metadata": {},
     "execution_count": 12
    }
   ],
   "source": [
    "# 加载数据集\n",
    "X = np.genfromtxt('letter-recognition.data', delimiter=',', usecols=range(1, 17))\n",
    "X"
   ]
  },
  {
   "cell_type": "code",
   "execution_count": 13,
   "metadata": {},
   "outputs": [
    {
     "output_type": "execute_result",
     "data": {
      "text/plain": "array(['T', 'I', 'D', ..., 'T', 'S', 'A'], dtype='<U1')"
     },
     "metadata": {},
     "execution_count": 13
    }
   ],
   "source": [
    "y = np.genfromtxt('letter-recognition.data', delimiter=',', usecols=0, dtype=np.str)\n",
    "y"
   ]
  },
  {
   "cell_type": "code",
   "execution_count": 14,
   "metadata": {},
   "outputs": [
    {
     "output_type": "execute_result",
     "data": {
      "text/plain": "array([-1, -1, -1, ..., -1, -1, -1])"
     },
     "metadata": {},
     "execution_count": 14
    }
   ],
   "source": [
    "y = np.where(y == 'C', 1, -1)\n",
    "y"
   ]
  },
  {
   "cell_type": "markdown",
   "metadata": {},
   "source": [
    "### 2.模型训练与测试"
   ]
  },
  {
   "cell_type": "code",
   "execution_count": 15,
   "metadata": {},
   "outputs": [],
   "source": [
    "from svm import SMO\n",
    "from sklearn.model_selection import train_test_split\n",
    "from sklearn.metrics import accuracy_score"
   ]
  },
  {
   "cell_type": "code",
   "execution_count": 16,
   "metadata": {},
   "outputs": [],
   "source": [
    "# 创建模型\n",
    "clf = SMO(C=1, tol=0.01, kernel='rbf', gamma=0.01)"
   ]
  },
  {
   "cell_type": "code",
   "execution_count": 17,
   "metadata": {},
   "outputs": [
    {
     "output_type": "execute_result",
     "data": {
      "text/plain": "(array([[ 3., 10.,  4., ...,  8.,  7.,  9.],\n        [ 4.,  7.,  4., ...,  8.,  8.,  8.],\n        [ 5.,  8.,  7., ...,  8., 10.,  7.],\n        ...,\n        [ 6., 10.,  8., ...,  9.,  5.,  8.],\n        [ 6.,  8.,  7., ...,  8.,  5., 11.],\n        [ 3.,  3.,  6., ...,  8.,  3.,  8.]]),\n array([[ 3.,  8.,  5., ...,  5.,  2.,  8.],\n        [ 7., 10.,  9., ..., 11.,  9., 12.],\n        [ 6.,  6.,  6., ...,  9.,  2.,  6.],\n        ...,\n        [ 5.,  9.,  5., ..., 12.,  2.,  4.],\n        [ 4.,  8.,  5., ...,  8.,  3.,  8.],\n        [ 6., 11.,  9., ...,  9.,  3.,  6.]]),\n array([-1, -1, -1, ..., -1, -1, -1]),\n array([-1, -1, -1, ..., -1, -1, -1]))"
     },
     "metadata": {},
     "execution_count": 17
    }
   ],
   "source": [
    "# 将数据集分为训练集和测试集(7:3开)\n",
    "X_train, X_test, y_train, y_test = train_test_split(X, y, test_size=0.3)\n",
    "X_train, X_test, y_train, y_test"
   ]
  },
  {
   "cell_type": "code",
   "execution_count": 18,
   "metadata": {
    "tags": []
   },
   "outputs": [
    {
     "output_type": "stream",
     "name": "stdout",
     "text": "n_changed: 1159\nsv num: 566\nn_changed: 490\nsv num: 312\nn_changed: 278\nsv num: 192\nn_changed: 163\nsv num: 125\nn_changed: 115\nsv num: 97\nn_changed: 86\nsv num: 73\nn_changed: 64\nsv num: 62\nn_changed: 56\nsv num: 52\nn_changed: 47\nsv num: 47\nn_changed: 42\nsv num: 43\nn_changed: 38\nsv num: 41\nn_changed: 39\nsv num: 39\nn_changed: 35\nsv num: 37\nn_changed: 31\nsv num: 37\nn_changed: 25\nsv num: 37\nn_changed: 26\nsv num: 36\nn_changed: 16\nsv num: 35\nn_changed: 15\nsv num: 34\nn_changed: 15\nsv num: 34\nn_changed: 9\nsv num: 34\nn_changed: 8\nsv num: 34\nn_changed: 6\nsv num: 34\nn_changed: 4\nsv num: 34\nn_changed: 7\nsv num: 34\nn_changed: 2\nsv num: 34\nn_changed: 0\nsv num: 34\nn_changed: 490\nsv num: 360\nn_changed: 318\nsv num: 230\nn_changed: 201\nsv num: 163\nn_changed: 145\nsv num: 123\nn_changed: 114\nsv num: 94\nn_changed: 78\nsv num: 77\nn_changed: 66\nsv num: 65\nn_changed: 57\nsv num: 63\nn_changed: 55\nsv num: 52\nn_changed: 43\nsv num: 46\nn_changed: 33\nsv num: 43\nn_changed: 35\nsv num: 42\nn_changed: 27\nsv num: 41\nn_changed: 21\nsv num: 41\nn_changed: 24\nsv num: 41\nn_changed: 13\nsv num: 41\nn_changed: 11\nsv num: 41\nn_changed: 13\nsv num: 41\nn_changed: 13\nsv num: 41\nn_changed: 7\nsv num: 41\nn_changed: 6\nsv num: 40\nn_changed: 4\nsv num: 40\nn_changed: 4\nsv num: 40\nn_changed: 2\nsv num: 40\nn_changed: 0\nsv num: 40\nn_changed: 303\nsv num: 249\nn_changed: 224\nsv num: 172\nn_changed: 150\nsv num: 134\nn_changed: 119\nsv num: 114\nn_changed: 104\nsv num: 101\nn_changed: 91\nsv num: 91\nn_changed: 79\nsv num: 80\nn_changed: 68\nsv num: 74\nn_changed: 62\nsv num: 68\nn_changed: 53\nsv num: 66\nn_changed: 48\nsv num: 65\nn_changed: 45\nsv num: 63\nn_changed: 36\nsv num: 61\nn_changed: 33\nsv num: 60\nn_changed: 30\nsv num: 60\nn_changed: 23\nsv num: 60\nn_changed: 21\nsv num: 60\nn_changed: 13\nsv num: 59\nn_changed: 9\nsv num: 57\nn_changed: 8\nsv num: 57\nn_changed: 9\nsv num: 57\nn_changed: 10\nsv num: 57\nn_changed: 4\nsv num: 57\nn_changed: 3\nsv num: 57\nn_changed: 1\nsv num: 57\nn_changed: 7\nsv num: 57\nn_changed: 0\nsv num: 57\nn_changed: 186\nsv num: 171\nn_changed: 145\nsv num: 134\nn_changed: 115\nsv num: 119\nn_changed: 105\nsv num: 109\nn_changed: 90\nsv num: 104\nn_changed: 91\nsv num: 97\nn_changed: 80\nsv num: 92\nn_changed: 76\nsv num: 88\nn_changed: 71\nsv num: 85\nn_changed: 62\nsv num: 81\nn_changed: 55\nsv num: 78\nn_changed: 47\nsv num: 78\nn_changed: 43\nsv num: 77\nn_changed: 38\nsv num: 76\nn_changed: 37\nsv num: 74\nn_changed: 22\nsv num: 72\nn_changed: 24\nsv num: 72\nn_changed: 19\nsv num: 72\nn_changed: 11\nsv num: 72\nn_changed: 12\nsv num: 72\nn_changed: 12\nsv num: 72\nn_changed: 15\nsv num: 72\nn_changed: 8\nsv num: 71\nn_changed: 10\nsv num: 71\nn_changed: 10\nsv num: 71\nn_changed: 6\nsv num: 71\nn_changed: 9\nsv num: 71\nn_changed: 4\nsv num: 71\nn_changed: 0\nsv num: 71\nn_changed: 112\nsv num: 124\nn_changed: 93\nsv num: 111\nn_changed: 80\nsv num: 107\nn_changed: 77\nsv num: 103\nn_changed: 68\nsv num: 103\nn_changed: 80\nsv num: 101\nn_changed: 62\nsv num: 98\nn_changed: 62\nsv num: 97\nn_changed: 55\nsv num: 94\nn_changed: 52\nsv num: 93\nn_changed: 45\nsv num: 92\nn_changed: 49\nsv num: 91\nn_changed: 39\nsv num: 91\nn_changed: 40\nsv num: 87\nn_changed: 31\nsv num: 86\nn_changed: 21\nsv num: 86\nn_changed: 24\nsv num: 85\nn_changed: 22\nsv num: 85\nn_changed: 18\nsv num: 85\nn_changed: 12\nsv num: 84\nn_changed: 15\nsv num: 84\nn_changed: 15\nsv num: 84\nn_changed: 13\nsv num: 84\nn_changed: 21\nsv num: 84\nn_changed: 7\nsv num: 84\nn_changed: 18\nsv num: 84\nn_changed: 19\nsv num: 84\nn_changed: 15\nsv num: 84\nn_changed: 15\nsv num: 84\nn_changed: 22\nsv num: 83\nn_changed: 12\nsv num: 83\nn_changed: 13\nsv num: 83\nn_changed: 9\nsv num: 83\nn_changed: 13\nsv num: 83\nn_changed: 7\nsv num: 82\nn_changed: 3\nsv num: 82\nn_changed: 2\nsv num: 82\nn_changed: 0\nsv num: 82\nn_changed: 62\nsv num: 111\nn_changed: 54\nsv num: 110\nn_changed: 58\nsv num: 110\nn_changed: 42\nsv num: 110\nn_changed: 40\nsv num: 110\nn_changed: 38\nsv num: 107\nn_changed: 33\nsv num: 107\nn_changed: 25\nsv num: 107\nn_changed: 25\nsv num: 107\nn_changed: 25\nsv num: 107\nn_changed: 20\nsv num: 107\nn_changed: 24\nsv num: 107\nn_changed: 25\nsv num: 106\nn_changed: 13\nsv num: 106\nn_changed: 16\nsv num: 106\nn_changed: 17\nsv num: 106\nn_changed: 16\nsv num: 106\nn_changed: 12\nsv num: 106\nn_changed: 8\nsv num: 106\nn_changed: 14\nsv num: 106\nn_changed: 6\nsv num: 106\nn_changed: 8\nsv num: 106\nn_changed: 9\nsv num: 106\nn_changed: 12\nsv num: 106\nn_changed: 12\nsv num: 105\nn_changed: 6\nsv num: 105\nn_changed: 9\nsv num: 104\nn_changed: 5\nsv num: 104\nn_changed: 5\nsv num: 104\nn_changed: 2\nsv num: 104\nn_changed: 10\nsv num: 104\nn_changed: 4\nsv num: 104\nn_changed: 6\nsv num: 104\nn_changed: 9\nsv num: 104\nn_changed: 9\nsv num: 103\nn_changed: 0\nsv num: 103\nn_changed: 23\nsv num: 110\nn_changed: 17\nsv num: 110\nn_changed: 8\nsv num: 110\nn_changed: 14\nsv num: 110\nn_changed: 9\nsv num: 110\nn_changed: 8\nsv num: 110\nn_changed: 2\nsv num: 110\nn_changed: 8\nsv num: 110\nn_changed: 5\nsv num: 110\nn_changed: 2\nsv num: 110\nn_changed: 12\nsv num: 110\nn_changed: 3\nsv num: 110\nn_changed: 2\nsv num: 110\nn_changed: 1\nsv num: 110\nn_changed: 4\nsv num: 110\nn_changed: 2\nsv num: 110\nn_changed: 6\nsv num: 110\nn_changed: 0\nsv num: 110\nn_changed: 5\nsv num: 112\nn_changed: 2\nsv num: 112\nn_changed: 3\nsv num: 112\nn_changed: 1\nsv num: 112\nn_changed: 0\nsv num: 112\nn_changed: 0\nsv num: 112\n"
    }
   ],
   "source": [
    "# 训练模型\n",
    "clf.train(X_train, y_train)"
   ]
  },
  {
   "cell_type": "code",
   "execution_count": 19,
   "metadata": {
    "tags": []
   },
   "outputs": [
    {
     "output_type": "stream",
     "name": "stdout",
     "text": "准确率为 99.3333%\n"
    }
   ],
   "source": [
    "# 预测\n",
    "y_pred = clf.predict(X_test)\n",
    "accuracy = accuracy_score(y_test, y_pred)\n",
    "print('准确率为 {:.4%}'.format(accuracy))"
   ]
  },
  {
   "cell_type": "code",
   "execution_count": 20,
   "metadata": {},
   "outputs": [
    {
     "output_type": "execute_result",
     "data": {
      "text/plain": "array([[5781,    0],\n       [  40,  179]])"
     },
     "metadata": {},
     "execution_count": 20
    }
   ],
   "source": [
    "# 了解识别信息\n",
    "from sklearn.metrics import confusion_matrix\n",
    "C = confusion_matrix(y_test, y_pred)\n",
    "C"
   ]
  },
  {
   "cell_type": "markdown",
   "metadata": {},
   "source": [
    "```python\n",
    "array([[5777,    0],\n",
    "       [  44,  179]])\n",
    "```\n",
    "这代表有 `5777 + 179` 个文字预测正确\n",
    "`44 + 0` 个预测错误\n",
    "\n",
    "因此,字母'C'预测错误概率该是很高,需要调整超参数优化性能"
   ]
  },
  {
   "cell_type": "code",
   "execution_count": 21,
   "metadata": {
    "tags": []
   },
   "outputs": [
    {
     "output_type": "stream",
     "name": "stdout",
     "text": "now try C = 0.1 , gamma = 0.1\nnow try C = 0.1 , gamma = 1\nnow try C = 0.1 , gamma = 10\nnow try C = 0.1 , gamma = 100\nnow try C = 1 , gamma = 0.1\nnow try C = 1 , gamma = 1\nnow try C = 1 , gamma = 10\nnow try C = 1 , gamma = 100\nnow try C = 10 , gamma = 0.1\nnow try C = 10 , gamma = 1\nnow try C = 10 , gamma = 10\nnow try C = 10 , gamma = 100\nnow try C = 100 , gamma = 0.1\nnow try C = 100 , gamma = 1\nnow try C = 100 , gamma = 10\nnow try C = 100 , gamma = 100\n"
    },
    {
     "output_type": "error",
     "ename": "TypeError",
     "evalue": "'list' object is not callable",
     "traceback": [
      "\u001b[0;31m---------------------------------------------------------------------------\u001b[0m",
      "\u001b[0;31mTypeError\u001b[0m                                 Traceback (most recent call last)",
      "\u001b[0;32m<ipython-input-21-76298a978e7b>\u001b[0m in \u001b[0;36m<module>\u001b[0;34m\u001b[0m\n\u001b[1;32m     25\u001b[0m \u001b[0;34m\u001b[0m\u001b[0m\n\u001b[1;32m     26\u001b[0m \u001b[0midx\u001b[0m \u001b[0;34m=\u001b[0m \u001b[0mnp\u001b[0m\u001b[0;34m.\u001b[0m\u001b[0margmax\u001b[0m\u001b[0;34m(\u001b[0m\u001b[0macc_list\u001b[0m\u001b[0;34m)\u001b[0m\u001b[0;34m\u001b[0m\u001b[0;34m\u001b[0m\u001b[0m\n\u001b[0;32m---> 27\u001b[0;31m \u001b[0mprint\u001b[0m\u001b[0;34m(\u001b[0m\u001b[0;34m'best: '\u001b[0m\u001b[0;34m,\u001b[0m \u001b[0mp_list\u001b[0m\u001b[0;34m(\u001b[0m\u001b[0midx\u001b[0m\u001b[0;34m)\u001b[0m\u001b[0;34m)\u001b[0m\u001b[0;34m\u001b[0m\u001b[0;34m\u001b[0m\u001b[0m\n\u001b[0m",
      "\u001b[0;31mTypeError\u001b[0m: 'list' object is not callable"
     ]
    }
   ],
   "source": [
    "\"\"\"\n",
    "@author: husiyuan\n",
    "@date: 2020-6-23\n",
    "\"\"\"\n",
    "from sklearn.svm import SVC\n",
    "\n",
    "# 用于保存各超参数组合的成绩\n",
    "acc_list = []\n",
    "p_list = []\n",
    "\n",
    "# 待尝试的各超参数,可先粗调再细调\n",
    "C_list = [0.1, 1, 10, 100]\n",
    "gamma_list = [0.1, 1, 10, 100]\n",
    "for C in C_list:\n",
    "    for gamma in gamma_list:\n",
    "        # 迭代不同超参数组合,创建模型\n",
    "        clf = SVC(C=C, tol=0.01, kernel='rbf', gamma=gamma)\n",
    "        # 训练,预测,计算准确率\n",
    "        clf.fit(X_train, y_train)\n",
    "        y_pred = clf.predict(X_test)\n",
    "        accuracy = accuracy_score(y_pred, y_test)\n",
    "        print('C = {1}, gamma={2}, accuracy={:.4%}'.format(C, gamma, accuracy))\n",
    "        # 保存成绩\n",
    "        acc_list.append(accuracy)\n",
    "        p_list.append((C, gamma))\n",
    "\n",
    "idx = np.argmax(acc_list)\n",
    "print('best (C, gamma) is : ', p_list(idx))"
   ]
  },
  {
   "cell_type": "code",
   "execution_count": null,
   "metadata": {},
   "outputs": [],
   "source": [
    "# 经过上述测试,发现\n",
    "clf = SMO(C=5, tol=0.01, kernel='rbf', gamma=0.05)\n",
    "clf.train(X_train, y_train)\n",
    "y_pred = clf.predict(X_test)\n",
    "accuracy = accuracy_score(y_test, y_pred)\n",
    "print('准确率为 {:.4%}'.format(accuracy))"
   ]
  },
  {
   "cell_type": "code",
   "execution_count": null,
   "metadata": {},
   "outputs": [],
   "source": [
    "# 现在结果就比较令人满意了\n",
    "C = confusion_matrix(y_test, y_pred)\n",
    "C"
   ]
  }
 ],
 "metadata": {
  "language_info": {
   "codemirror_mode": {
    "name": "ipython",
    "version": 3
   },
   "file_extension": ".py",
   "mimetype": "text/x-python",
   "name": "python",
   "nbconvert_exporter": "python",
   "pygments_lexer": "ipython3",
   "version": "3.7.3-final"
  },
  "orig_nbformat": 2,
  "kernelspec": {
   "name": "python37364bitc8be7a85df844ddf8a53f27680e12298",
   "display_name": "Python 3.7.3 64-bit"
  }
 },
 "nbformat": 4,
 "nbformat_minor": 2
}