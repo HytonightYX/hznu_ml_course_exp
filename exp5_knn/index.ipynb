{
 "cells": [
  {
   "cell_type": "markdown",
   "metadata": {},
   "source": [
    "## 使用KNN分类器(k-d树版本)判断乳腺肿瘤是否为良性"
   ]
  },
  {
   "cell_type": "code",
   "execution_count": 1,
   "metadata": {},
   "outputs": [],
   "source": [
    "import numpy as np"
   ]
  },
  {
   "cell_type": "code",
   "execution_count": 7,
   "metadata": {},
   "outputs": [
    {
     "output_type": "execute_result",
     "data": {
      "text/plain": "array([[3.100e+01, 1.802e+01, 2.760e+01, ..., 3.140e-01, 1.170e-01,\n        2.677e-01],\n       [6.100e+01, 1.799e+01, 1.038e+01, ..., 7.119e-01, 2.654e-01,\n        4.601e-01],\n       [1.160e+02, 2.137e+01, 1.744e+01, ..., 3.414e-01, 2.032e-01,\n        4.334e-01],\n       ...,\n       [1.200e+01, 1.717e+01, 2.919e+01, ..., 2.141e-01, 9.520e-02,\n        3.362e-01],\n       [3.000e+00, 2.142e+01, 2.284e+01, ..., 5.411e-01, 2.215e-01,\n        2.832e-01],\n       [6.000e+00, 1.670e+01, 2.813e+01, ..., 3.455e-01, 1.317e-01,\n        3.035e-01]])"
     },
     "metadata": {},
     "execution_count": 7
    }
   ],
   "source": [
    "# 加载数据集\n",
    "X = np.genfromtxt('wpbc.data', delimiter=',', usecols=range(2, 32))\n",
    "X"
   ]
  },
  {
   "cell_type": "code",
   "execution_count": 6,
   "metadata": {},
   "outputs": [
    {
     "output_type": "execute_result",
     "data": {
      "text/plain": "array(['N', 'N', 'N', 'N', 'R', 'R', 'N', 'R', 'N', 'N', 'N', 'N', 'N',\n       'R', 'N', 'R', 'N', 'R', 'N', 'N', 'N', 'N', 'N', 'N', 'N', 'N',\n       'N', 'N', 'N', 'N', 'N', 'N', 'N', 'N', 'R', 'N', 'N', 'R', 'N',\n       'R', 'R', 'N', 'R', 'R', 'N', 'N', 'R', 'N', 'R', 'N', 'R', 'N',\n       'N', 'N', 'N', 'N', 'R', 'N', 'N', 'R', 'N', 'N', 'R', 'N', 'N',\n       'N', 'N', 'R', 'N', 'R', 'N', 'N', 'N', 'N', 'N', 'R', 'N', 'N',\n       'N', 'N', 'N', 'R', 'N', 'N', 'N', 'N', 'N', 'N', 'R', 'N', 'N',\n       'N', 'N', 'N', 'N', 'N', 'N', 'N', 'N', 'N', 'N', 'N', 'N', 'N',\n       'N', 'R', 'N', 'N', 'N', 'R', 'R', 'N', 'R', 'N', 'R', 'N', 'N',\n       'N', 'N', 'N', 'R', 'N', 'N', 'N', 'N', 'R', 'N', 'N', 'R', 'R',\n       'N', 'R', 'R', 'N', 'N', 'R', 'N', 'N', 'N', 'N', 'N', 'N', 'N',\n       'R', 'N', 'R', 'N', 'R', 'N', 'N', 'R', 'N', 'R', 'N', 'N', 'R',\n       'N', 'R', 'N', 'R', 'N', 'R', 'N', 'N', 'N', 'N', 'N', 'N', 'N',\n       'N', 'N', 'N', 'N', 'N', 'N', 'N', 'R', 'R', 'N', 'N', 'N', 'N',\n       'N', 'N', 'N', 'N', 'N', 'N', 'N', 'N', 'N', 'N', 'N', 'N', 'N',\n       'N', 'R', 'N'], dtype='<U1')"
     },
     "metadata": {},
     "execution_count": 6
    }
   ],
   "source": [
    "y = np.genfromtxt('wpbc.data', delimiter=',', usecols=1, dtype=np.str)\n",
    "y"
   ]
  },
  {
   "cell_type": "code",
   "execution_count": 5,
   "metadata": {},
   "outputs": [
    {
     "output_type": "execute_result",
     "data": {
      "text/plain": "array(0)"
     },
     "metadata": {},
     "execution_count": 5
    }
   ],
   "source": [
    "y = np.where(y == 'B', 1, 0)\n",
    "y"
   ]
  },
  {
   "cell_type": "code",
   "execution_count": null,
   "metadata": {},
   "outputs": [],
   "source": []
  }
 ],
 "metadata": {
  "language_info": {
   "codemirror_mode": {
    "name": "ipython",
    "version": 3
   },
   "file_extension": ".py",
   "mimetype": "text/x-python",
   "name": "python",
   "nbconvert_exporter": "python",
   "pygments_lexer": "ipython3",
   "version": "3.7.3-final"
  },
  "orig_nbformat": 2,
  "kernelspec": {
   "name": "python37364bitc8be7a85df844ddf8a53f27680e12298",
   "display_name": "Python 3.7.3 64-bit"
  }
 },
 "nbformat": 4,
 "nbformat_minor": 2
}